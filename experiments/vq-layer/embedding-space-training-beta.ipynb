{
 "cells": [
  {
   "cell_type": "markdown",
   "metadata": {},
   "source": [
    "# VQ Layer Embedding Space $\\beta$-Training Evaluation"
   ]
  },
  {
   "cell_type": "markdown",
   "metadata": {},
   "source": [
    "The embedding space of a VQ layer can be trained. This notebook evaluates whether vectors that are not being used for projection are still slowly moving into the direction of samples. Similar to $k$-means.\n",
    "\n",
    "We call this kind of training $\\beta$-training because it is a secondary loss whose strength is controled through the coefficient $\\beta$."
   ]
  },
  {
   "cell_type": "code",
   "execution_count": 1,
   "metadata": {},
   "outputs": [
    {
     "name": "stderr",
     "output_type": "stream",
     "text": [
      "/Library/Frameworks/Python.framework/Versions/3.6/lib/python3.6/importlib/_bootstrap.py:219: RuntimeWarning: compiletime version 3.5 of module 'tensorflow.python.framework.fast_tensor_util' does not match runtime version 3.6\n",
      "  return f(*args, **kwds)\n"
     ]
    }
   ],
   "source": [
    "%matplotlib inline\n",
    "import numpy as np\n",
    "import matplotlib.pyplot as plt\n",
    "from sklearn.datasets.samples_generator import make_blobs\n",
    "import tensorflow as tf"
   ]
  },
  {
   "cell_type": "code",
   "execution_count": 2,
   "metadata": {},
   "outputs": [],
   "source": [
    "def vector_quantization(x: tf.Tensor, n, alpha=0.1, beta=1e-4, lookup_ord='euclidean', embedding_initializer=tf.random_normal_initializer) -> tf.Tensor:\n",
    "    \"\"\"Simplified version of the function in vq-layer-function, without coulomb loss (gamma) and gradient skipping.\"\"\"\n",
    "    # shape of x is [batch, , q], where this function quantizes along dimension q\n",
    "    vec_size = x.shape[2]\n",
    "    with tf.variable_scope('vq'):\n",
    "        # embedding space\n",
    "        emb_space = tf.get_variable('emb_space', shape=[n, vec_size], dtype=x.dtype, initializer=embedding_initializer, trainable=True)\n",
    "        \n",
    "        # map x to y, where y is the vector from emb_space that is closest to x\n",
    "        diff = tf.expand_dims(x, axis=2) - emb_space  # distance of x from all vectors in the embedding space\n",
    "        dist = tf.norm(diff, lookup_ord, axis=3)  # distance between x and all vectors in emb\n",
    "        emb_index = tf.argmin(dist, axis=2)\n",
    "        y = tf.gather(emb_space, emb_index, axis=0)\n",
    "\n",
    "        # closest embedding update loss\n",
    "        nearest_loss = tf.reduce_mean(alpha * tf.norm(y - x, lookup_ord, axis=2), axis=1)\n",
    "        tf.add_to_collection(tf.GraphKeys.LOSSES, nearest_loss)\n",
    "        \n",
    "        # all embeddings update loss \n",
    "        all_loss = tf.reduce_mean(beta * tf.reduce_sum(dist, axis=2), axis=1)\n",
    "        tf.add_to_collection(tf.GraphKeys.LOSSES, all_loss)\n",
    "\n",
    "        # return selection\n",
    "        return y, emb_space"
   ]
  },
  {
   "cell_type": "code",
   "execution_count": 3,
   "metadata": {},
   "outputs": [
    {
     "data": {
      "text/plain": [
       "<matplotlib.collections.PathCollection at 0x113708710>"
      ]
     },
     "execution_count": 3,
     "metadata": {},
     "output_type": "execute_result"
    },
    {
     "data": {
      "image/png": "[encoded data removed]",
      "text/plain": [
       "<Figure size 432x288 with 1 Axes>"
      ]
     },
     "metadata": {},
     "output_type": "display_data"
    }
   ],
   "source": [
    "points_val = np.array([[0, 0], [1, 1], [0.5, 1.2]], dtype=np.float32)\n",
    "emb_space_val = np.array([[2, 0.5], [3, 0.5]], dtype=np.float32)\n",
    "\n",
    "plt.scatter(points_val[:, 0], points_val[:, 1])\n",
    "plt.scatter(emb_space_val[:, 0], emb_space_val[:, 1])"
   ]
  },
  {
   "cell_type": "markdown",
   "metadata": {},
   "source": [
    "The step size $\\alpha$ determines how quickly the embedding space is being adjusted.\n",
    "\n",
    "$\\beta$ determines how quickly unused embedding vectors are moving."
   ]
  },
  {
   "cell_type": "code",
   "execution_count": 4,
   "metadata": {},
   "outputs": [],
   "source": [
    "alpha = 1e-1\n",
    "beta = 1e-2"
   ]
  },
  {
   "cell_type": "code",
   "execution_count": 5,
   "metadata": {},
   "outputs": [],
   "source": [
    "tf.reset_default_graph()\n",
    "points = tf.placeholder(tf.float32, shape=[None, 2])\n",
    "vq_in = tf.expand_dims(points, axis=1)\n",
    "vq_out, emb_space = vector_quantization(vq_in, len(emb_space_val), alpha, beta, lookup_ord=2, embedding_initializer=tf.constant_initializer(emb_space_val))\n",
    "points_out = tf.squeeze(vq_out)"
   ]
  },
  {
   "cell_type": "code",
   "execution_count": 6,
   "metadata": {},
   "outputs": [],
   "source": [
    "update_ops = tf.get_collection(tf.GraphKeys.UPDATE_OPS)\n",
    "with tf.control_dependencies(update_ops):\n",
    "    optimizer = tf.train.GradientDescentOptimizer(learning_rate=.5)\n",
    "    loss = tf.add_n(tf.get_collection(tf.GraphKeys.LOSSES))\n",
    "    train_op = optimizer.minimize(loss)"
   ]
  },
  {
   "cell_type": "code",
   "execution_count": 7,
   "metadata": {},
   "outputs": [
    {
     "data": {
      "image/png": "[encoded data removed]",
      "text/plain": [
       "<Figure size 432x288 with 1 Axes>"
      ]
     },
     "metadata": {},
     "output_type": "display_data"
    }
   ],
   "source": [
    "sess = tf.Session()\n",
    "with sess.as_default():\n",
    "    sess.run(tf.group(tf.global_variables_initializer(), tf.local_variables_initializer()))\n",
    "    for _ in range(130):\n",
    "        emb_space_learned, _ = sess.run([emb_space, train_op], feed_dict={points:points_val})\n",
    "        plt.scatter(emb_space_learned[:, 0], emb_space_learned[:, 1], c='blue')\n",
    "    plt.scatter(points_val[:, 0], points_val[:, 1], c='red')"
   ]
  },
  {
   "cell_type": "markdown",
   "metadata": {},
   "source": [
    "The plot shows how the embedding vector in them middle is moving towards the _cluster_ center, following the gradient. The second embedding space vector (further on the right-hand side) moves slowly towards the data as well.\n",
    "\n",
    "The chosen hyperparameters are\n",
    "* learning rate $\\eta=.5$\n",
    "* update weighting $\\alpha=0.1$\n",
    "* beta update $\\beta=0.01$\n",
    "* iterations $n=50$\n",
    "\n",
    "It can be clearly seen that the embedding vectors are not finding the optimal clustering, where one would take over both points at the top and the other one would move to the bottom-left. The coulomb loss (gamme) shall help enforce the desired behavior."
   ]
  }
 ],
 "metadata": {
  "kernelspec": {
   "display_name": "Python 3",
   "language": "python",
   "name": "python3"
  },
  "language_info": {
   "codemirror_mode": {
    "name": "ipython",
    "version": 3
   },
   "file_extension": ".py",
   "mimetype": "text/x-python",
   "name": "python",
   "nbconvert_exporter": "python",
   "pygments_lexer": "ipython3",
   "version": "3.6.5"
  }
 },
 "nbformat": 4,
 "nbformat_minor": 2
}
