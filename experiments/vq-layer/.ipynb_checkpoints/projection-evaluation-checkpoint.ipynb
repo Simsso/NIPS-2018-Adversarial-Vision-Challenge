{
 "cells": [
  {
   "cell_type": "markdown",
   "metadata": {},
   "source": [
    "# VQ Layer Function Projection Evaluation"
   ]
  },
  {
   "cell_type": "markdown",
   "metadata": {},
   "source": [
    "The VQ layer projects input vectors to the closest vector found in the embedding space. Closest is measured in terms of L2 (will be parameterizable in the future, e.g. cosine and L1 as well)."
   ]
  },
  {
   "cell_type": "code",
   "execution_count": 1,
   "metadata": {},
   "outputs": [
    {
     "name": "stderr",
     "output_type": "stream",
     "text": [
      "/Library/Frameworks/Python.framework/Versions/3.6/lib/python3.6/importlib/_bootstrap.py:219: RuntimeWarning: compiletime version 3.5 of module 'tensorflow.python.framework.fast_tensor_util' does not match runtime version 3.6\n",
      "  return f(*args, **kwds)\n"
     ]
    }
   ],
   "source": [
    "%matplotlib inline\n",
    "import numpy as np\n",
    "import matplotlib.pyplot as plt\n",
    "from sklearn.datasets.samples_generator import make_blobs\n",
    "import tensorflow as tf"
   ]
  },
  {
   "cell_type": "markdown",
   "metadata": {},
   "source": [
    "We generate three clusters of points and define an embedding space which contains four vectors. Three of these four vectors are somewhat aligned with the created clusters."
   ]
  },
  {
   "cell_type": "code",
   "execution_count": 2,
   "metadata": {},
   "outputs": [
    {
     "data": {
      "text/plain": [
       "<matplotlib.collections.PathCollection at 0x11e798668>"
      ]
     },
     "execution_count": 2,
     "metadata": {},
     "output_type": "execute_result"
    },
    {
     "data": {
      "image/png": "[encoded data removed]",
      "text/plain": [
       "<Figure size 432x288 with 1 Axes>"
      ]
     },
     "metadata": {},
     "output_type": "display_data"
    }
   ],
   "source": [
    "from sklearn.datasets.samples_generator import make_blobs\n",
    "X, y = make_blobs(n_samples=20, centers=3,\n",
    "                  random_state=0, cluster_std=0.30)\n",
    "plt.scatter(X[:, 0], X[:, 1]);\n",
    "\n",
    "emb_space_val = np.array([[-2, 2], [0, 2], [1, 4], [2, 1]], dtype=np.float32)\n",
    "plt.scatter(emb_space_val[:, 0], emb_space_val[:, 1])"
   ]
  },
  {
   "cell_type": "code",
   "execution_count": 3,
   "metadata": {},
   "outputs": [],
   "source": [
    "def vector_quantization(x: tf.Tensor, n, embedding_initializer=tf.random_normal_initializer) -> tf.Tensor:\n",
    "    \"\"\"Simplified version of the function in vq-layer-function, without loss and gradient skipping.\"\"\"\n",
    "    # shape of x is [batch, , vec_size], where this function quantizes along dimension vec_size\n",
    "    vec_size = x.shape[2]\n",
    "    with tf.variable_scope('vq'):\n",
    "        # embedding space\n",
    "        emb_space = tf.get_variable('emb_space', shape=[n, vec_size], dtype=x.dtype, initializer=embedding_initializer, trainable=True)\n",
    "        \n",
    "        # map x to y, where y is the vector from emb_space that is closest to x\n",
    "        diff = tf.expand_dims(x, axis=2) - emb_space  # distance of x from all vectors in the embedding space\n",
    "        dist = tf.reduce_sum(diff ** 2, axis=3)  # l2 distance between x and all vectors in emb\n",
    "        emb_index = tf.argmin(dist, axis=2)\n",
    "        return tf.gather(emb_space, emb_index, axis=0)"
   ]
  },
  {
   "cell_type": "code",
   "execution_count": 4,
   "metadata": {},
   "outputs": [],
   "source": [
    "tf.reset_default_graph()\n",
    "point_batch = tf.placeholder(tf.float32, shape=[None, 2])\n",
    "vq_in = tf.expand_dims(point_batch, axis=1)\n",
    "vq_out = vector_quantization(vq_in, 4, tf.constant_initializer(emb_space_val))\n",
    "point_batch_out = tf.squeeze(vq_out)"
   ]
  },
  {
   "cell_type": "markdown",
   "metadata": {},
   "source": [
    "The points of the clusters are being mapped to the closest vector in the embedding space. All embedding vectors but the one in the center are being used."
   ]
  },
  {
   "cell_type": "code",
   "execution_count": 5,
   "metadata": {},
   "outputs": [
    {
     "data": {
      "image/png": "[encoded data removed]",
      "text/plain": [
       "<Figure size 432x288 with 1 Axes>"
      ]
     },
     "metadata": {},
     "output_type": "display_data"
    }
   ],
   "source": [
    "sess = tf.Session()\n",
    "with sess.as_default():\n",
    "    init = tf.group(tf.global_variables_initializer(), tf.local_variables_initializer())\n",
    "    sess.run(init)\n",
    "    point_batch_out_val = sess.run(point_batch_out, feed_dict={point_batch:X})\n",
    "    plt.scatter(point_batch_out_val[:, 0], point_batch_out_val[:, 1])"
   ]
  }
 ],
 "metadata": {
  "kernelspec": {
   "display_name": "Python 3",
   "language": "python",
   "name": "python3"
  },
  "language_info": {
   "codemirror_mode": {
    "name": "ipython",
    "version": 3
   },
   "file_extension": ".py",
   "mimetype": "text/x-python",
   "name": "python",
   "nbconvert_exporter": "python",
   "pygments_lexer": "ipython3",
   "version": "3.6.5"
  }
 },
 "nbformat": 4,
 "nbformat_minor": 2
}
