{
 "cells": [
  {
   "cell_type": "markdown",
   "metadata": {},
   "source": [
    "# Vector Quantization (VQ) Layer Function"
   ]
  },
  {
   "cell_type": "markdown",
   "metadata": {},
   "source": [
    "Related links:\n",
    "* https://stats.stackexchange.com/questions/146221/is-cosine-similarity-identical-to-l2-normalized-euclidean-distance\n",
    "* https://www.mathworks.com/help/stats/pdist.html\n",
    "* https://stackoverflow.com/questions/37009647/compute-pairwise-distance-in-a-batch-without-replicating-tensor-in-tensorflow"
   ]
  },
  {
   "cell_type": "code",
   "execution_count": 1,
   "metadata": {},
   "outputs": [
    {
     "name": "stderr",
     "output_type": "stream",
     "text": [
      "/Library/Frameworks/Python.framework/Versions/3.6/lib/python3.6/importlib/_bootstrap.py:219: RuntimeWarning: compiletime version 3.5 of module 'tensorflow.python.framework.fast_tensor_util' does not match runtime version 3.6\n",
      "  return f(*args, **kwds)\n"
     ]
    }
   ],
   "source": [
    "import tensorflow as tf\n",
    "from typing import List"
   ]
  },
  {
   "cell_type": "code",
   "execution_count": 2,
   "metadata": {},
   "outputs": [],
   "source": [
    "def vector_quantization(x: tf.Tensor, n, alpha=0.1, beta=1e-4, gamma=1e-6, embedding_initializer=tf.random_normal_initializer) -> tf.Tensor:\n",
    "    # shape of x is [batch, , q], where this function quantizes along dimension q\n",
    "    vec_size = x.shape[2]\n",
    "    with tf.variable_scope('vq'):\n",
    "        # embedding space\n",
    "        emb_space = tf.get_variable('emb_space', shape=[n, vec_size], dtype=x.dtype, initializer=embedding_initializer, trainable=True)\n",
    "        \n",
    "        # map x to y, where y is the vector from emb_space that is closest to x\n",
    "        diff = tf.expand_dims(x, axis=2) - emb_space  # distance of x from all vectors in the embedding space\n",
    "        dist = tf.reduce_sum(diff ** 2, axis=2)  # l2 distance between x and all vectors in emb\n",
    "        emb_index = tf.argmin(dist, axis=2)\n",
    "        y = tf.gather(emb_space, emb_index, axis=0)\n",
    "\n",
    "        # closest embedding update loss\n",
    "        nearest_loss = alpha * tf.reduce_sum((y - x) ** 2, axis=1)\n",
    "        tf.add_to_collection(tf.GraphKeys.LOSSES, nearest_loss)\n",
    "        \n",
    "        # all embeddings update loss\n",
    "        all_loss = beta * tf.reduce_mean(dist, axis=2)\n",
    "        tf.add_to_collection(tf.GraphKeys.LOSSES, all_loss)\n",
    "        \n",
    "        # all embeddings distance from each other (gamma)\n",
    "        pdiff = tf.expand_dims(emb_space, axis=0) - tf.expand_dims(emb_space, axis=1)  # pair-wise diff vectors (n x n x vec_size)\n",
    "        pdist = tf.reduce_sum(pdiff ** 2, axis=2)  # pair-wise L2 distance scalars (n x n)\n",
    "        coulomb_loss = - gamma * tf.reduce_mean(pdist, axis=[0, 1])\n",
    "        tf.add_to_collection(tf.GraphKeys.LOSSES, coulomb_loss)\n",
    "\n",
    "        # return selection\n",
    "        return tf.stop_gradient(y - x) + x  # skip this layer when doing back-prop"
   ]
  },
  {
   "cell_type": "code",
   "execution_count": 3,
   "metadata": {},
   "outputs": [],
   "source": [
    "tf.reset_default_graph()\n",
    "x = tf.placeholder(name='test', shape=[None, 5, 10], dtype=tf.float32)\n",
    "a = vector_quantization(x, 200)"
   ]
  },
  {
   "cell_type": "code",
   "execution_count": 4,
   "metadata": {},
   "outputs": [
    {
     "data": {
      "text/plain": [
       "<tf.Tensor 'vq/add:0' shape=(?, 5, 10) dtype=float32>"
      ]
     },
     "execution_count": 4,
     "metadata": {},
     "output_type": "execute_result"
    }
   ],
   "source": [
    "a"
   ]
  },
  {
   "cell_type": "code",
   "execution_count": 5,
   "metadata": {},
   "outputs": [],
   "source": [
    "e = tf.get_variable('emb_space', shape=[5, 200], dtype=tf.float32, initializer=tf.random_normal_initializer)"
   ]
  },
  {
   "cell_type": "code",
   "execution_count": 6,
   "metadata": {},
   "outputs": [
    {
     "data": {
      "text/plain": [
       "<tf.Tensor 'sub:0' shape=(5, 5, 200) dtype=float32>"
      ]
     },
     "execution_count": 6,
     "metadata": {},
     "output_type": "execute_result"
    }
   ],
   "source": [
    "tf.expand_dims(e, axis=0) - tf.expand_dims(e, axis=1)"
   ]
  },
  {
   "cell_type": "code",
   "execution_count": null,
   "metadata": {},
   "outputs": [],
   "source": []
  }
 ],
 "metadata": {
  "kernelspec": {
   "display_name": "Python 3",
   "language": "python",
   "name": "python3"
  },
  "language_info": {
   "codemirror_mode": {
    "name": "ipython",
    "version": 3
   },
   "file_extension": ".py",
   "mimetype": "text/x-python",
   "name": "python",
   "nbconvert_exporter": "python",
   "pygments_lexer": "ipython3",
   "version": "3.6.5"
  }
 },
 "nbformat": 4,
 "nbformat_minor": 2
}
